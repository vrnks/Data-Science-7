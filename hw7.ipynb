{
 "cells": [
  {
   "cell_type": "markdown",
   "id": "9df4fd7a",
   "metadata": {},
   "source": [
    "*Візьміть датасет movielens і побудуйте модель матричної факторизації. У даній бібліотеці він має назву SVD. Підберіть найкращі параметри за допомогою крос-валідації, також поекспериментуйте з іншими алгоритмами розрахунків (SVD++, NMF) і оберіть той, який буде оптимальним.*"
   ]
  },
  {
   "cell_type": "code",
   "execution_count": 2,
   "id": "29f35efb",
   "metadata": {},
   "outputs": [],
   "source": [
    "import pandas as pd\n",
    "from surprise import accuracy, Dataset, SVD, SVDpp, NMF\n",
    "from surprise.model_selection import train_test_split\n",
    "from surprise.model_selection import cross_validate"
   ]
  },
  {
   "cell_type": "code",
   "execution_count": 3,
   "id": "c52e083d",
   "metadata": {},
   "outputs": [],
   "source": [
    "data = Dataset.load_builtin(name='ml-100k', prompt=True)"
   ]
  },
  {
   "cell_type": "code",
   "execution_count": 4,
   "id": "732cbfb7",
   "metadata": {},
   "outputs": [],
   "source": [
    "algorithms = [SVD(), SVDpp(), NMF()]"
   ]
  },
  {
   "cell_type": "markdown",
   "id": "081ef94a",
   "metadata": {},
   "source": [
    "#### SVD Algorithm"
   ]
  },
  {
   "cell_type": "code",
   "execution_count": 5,
   "id": "c1b1b69a",
   "metadata": {},
   "outputs": [
    {
     "name": "stdout",
     "output_type": "stream",
     "text": [
      "Evaluating RMSE, MAE of algorithm SVD on 5 split(s).\n",
      "\n",
      "                  Fold 1  Fold 2  Fold 3  Fold 4  Fold 5  Mean    Std     \n",
      "RMSE (testset)    0.9340  0.9407  0.9293  0.9446  0.9320  0.9361  0.0057  \n",
      "MAE (testset)     0.7335  0.7407  0.7364  0.7428  0.7355  0.7378  0.0034  \n",
      "Fit time          0.91    0.97    0.94    0.93    0.98    0.95    0.03    \n",
      "Test time         0.15    0.22    0.20    0.14    0.20    0.18    0.03    \n"
     ]
    }
   ],
   "source": [
    "SVD_result = cross_validate(algorithms[0], data, measures=['RMSE', 'MAE'], cv=5, verbose=True)\n",
    "SVD_result = pd.DataFrame.from_dict(SVD_result).mean(axis=0)"
   ]
  },
  {
   "cell_type": "markdown",
   "id": "ce76ad26",
   "metadata": {},
   "source": [
    "#### SVDpp Algorithm"
   ]
  },
  {
   "cell_type": "code",
   "execution_count": 6,
   "id": "bd7a747d",
   "metadata": {},
   "outputs": [
    {
     "name": "stdout",
     "output_type": "stream",
     "text": [
      "Evaluating RMSE, MAE of algorithm SVDpp on 5 split(s).\n",
      "\n",
      "                  Fold 1  Fold 2  Fold 3  Fold 4  Fold 5  Mean    Std     \n",
      "RMSE (testset)    0.9213  0.9165  0.9206  0.9194  0.9152  0.9186  0.0023  \n",
      "MAE (testset)     0.7219  0.7200  0.7232  0.7206  0.7192  0.7210  0.0014  \n",
      "Fit time          25.03   24.84   25.21   24.90   25.36   25.07   0.19    \n",
      "Test time         3.27    3.36    3.27    3.17    3.24    3.26    0.06    \n"
     ]
    }
   ],
   "source": [
    "SVDpp_result = cross_validate(algorithms[1], data, measures=['RMSE', 'MAE'], cv=5, verbose=True)\n",
    "SVDpp_result = pd.DataFrame.from_dict(SVDpp_result).mean(axis=0)"
   ]
  },
  {
   "cell_type": "markdown",
   "id": "4cd7b377",
   "metadata": {},
   "source": [
    "#### NMF Algorithm"
   ]
  },
  {
   "cell_type": "code",
   "execution_count": 7,
   "id": "9c8c5508",
   "metadata": {},
   "outputs": [
    {
     "name": "stdout",
     "output_type": "stream",
     "text": [
      "Evaluating RMSE, MAE of algorithm NMF on 5 split(s).\n",
      "\n",
      "                  Fold 1  Fold 2  Fold 3  Fold 4  Fold 5  Mean    Std     \n",
      "RMSE (testset)    0.9643  0.9698  0.9621  0.9586  0.9661  0.9642  0.0038  \n",
      "MAE (testset)     0.7570  0.7628  0.7569  0.7523  0.7583  0.7575  0.0033  \n",
      "Fit time          1.73    1.82    1.76    1.75    1.74    1.76    0.03    \n",
      "Test time         0.13    0.19    0.12    0.12    0.20    0.15    0.04    \n"
     ]
    }
   ],
   "source": [
    "NMF_result = cross_validate(algorithms[2], data, measures=['RMSE', 'MAE'], cv=5, verbose=True)\n",
    "NMF_result = pd.DataFrame.from_dict(NMF_result).mean(axis=0)"
   ]
  },
  {
   "cell_type": "markdown",
   "id": "7c934ec2",
   "metadata": {},
   "source": [
    "#### Surprise results"
   ]
  },
  {
   "cell_type": "code",
   "execution_count": 8,
   "id": "cecf3a85",
   "metadata": {},
   "outputs": [],
   "source": [
    "surprise_results = pd.DataFrame(columns=['SVD', 'SVDpp', 'NMF'])"
   ]
  },
  {
   "cell_type": "code",
   "execution_count": 9,
   "id": "ae70c0ed",
   "metadata": {},
   "outputs": [],
   "source": [
    "surprise_results['SVD'] = SVD_result\n",
    "surprise_results['SVDpp'] = SVDpp_result\n",
    "surprise_results['NMF'] = NMF_result"
   ]
  },
  {
   "cell_type": "code",
   "execution_count": 10,
   "id": "029fae2a",
   "metadata": {},
   "outputs": [
    {
     "data": {
      "text/html": [
       "<div>\n",
       "<style scoped>\n",
       "    .dataframe tbody tr th:only-of-type {\n",
       "        vertical-align: middle;\n",
       "    }\n",
       "\n",
       "    .dataframe tbody tr th {\n",
       "        vertical-align: top;\n",
       "    }\n",
       "\n",
       "    .dataframe thead th {\n",
       "        text-align: right;\n",
       "    }\n",
       "</style>\n",
       "<table border=\"1\" class=\"dataframe\">\n",
       "  <thead>\n",
       "    <tr style=\"text-align: right;\">\n",
       "      <th></th>\n",
       "      <th>SVD</th>\n",
       "      <th>SVDpp</th>\n",
       "      <th>NMF</th>\n",
       "    </tr>\n",
       "  </thead>\n",
       "  <tbody>\n",
       "    <tr>\n",
       "      <th>test_rmse</th>\n",
       "      <td>0.936102</td>\n",
       "      <td>0.918619</td>\n",
       "      <td>0.964172</td>\n",
       "    </tr>\n",
       "    <tr>\n",
       "      <th>test_mae</th>\n",
       "      <td>0.737770</td>\n",
       "      <td>0.720976</td>\n",
       "      <td>0.757480</td>\n",
       "    </tr>\n",
       "    <tr>\n",
       "      <th>fit_time</th>\n",
       "      <td>0.949197</td>\n",
       "      <td>25.066613</td>\n",
       "      <td>1.759419</td>\n",
       "    </tr>\n",
       "    <tr>\n",
       "      <th>test_time</th>\n",
       "      <td>0.183576</td>\n",
       "      <td>3.259477</td>\n",
       "      <td>0.152807</td>\n",
       "    </tr>\n",
       "  </tbody>\n",
       "</table>\n",
       "</div>"
      ],
      "text/plain": [
       "                SVD      SVDpp       NMF\n",
       "test_rmse  0.936102   0.918619  0.964172\n",
       "test_mae   0.737770   0.720976  0.757480\n",
       "fit_time   0.949197  25.066613  1.759419\n",
       "test_time  0.183576   3.259477  0.152807"
      ]
     },
     "execution_count": 10,
     "metadata": {},
     "output_type": "execute_result"
    }
   ],
   "source": [
    "surprise_results"
   ]
  },
  {
   "cell_type": "markdown",
   "id": "e96ac813",
   "metadata": {},
   "source": [
    "#### Get train and test data"
   ]
  },
  {
   "cell_type": "code",
   "execution_count": 11,
   "id": "1e44218f",
   "metadata": {},
   "outputs": [],
   "source": [
    "train_data, test_data = train_test_split(data, test_size=0.25)"
   ]
  },
  {
   "cell_type": "code",
   "execution_count": 12,
   "id": "44f47348",
   "metadata": {},
   "outputs": [],
   "source": [
    "predictions_svd = algorithms[0].fit(train_data).test(test_data)\n",
    "predictions_svdpp = algorithms[1].fit(train_data).test(test_data)\n",
    "predictions_nmf = algorithms[2].fit(train_data).test(test_data)"
   ]
  },
  {
   "cell_type": "code",
   "execution_count": 13,
   "id": "c4b64eb9",
   "metadata": {},
   "outputs": [
    {
     "name": "stdout",
     "output_type": "stream",
     "text": [
      "SVD: RMSE: 0.9330\n",
      "SVDpp: RMSE: 0.9160\n",
      "NMF: RMSE: 0.9609\n"
     ]
    },
    {
     "data": {
      "text/plain": [
       "0.9608906791962171"
      ]
     },
     "execution_count": 13,
     "metadata": {},
     "output_type": "execute_result"
    }
   ],
   "source": [
    "print('SVD:', end=' ')\n",
    "accuracy.rmse(predictions_svd)\n",
    "print('SVDpp:', end=' ')\n",
    "accuracy.rmse(predictions_svdpp)\n",
    "print('NMF:', end=' ')\n",
    "accuracy.rmse(predictions_nmf)"
   ]
  }
 ],
 "metadata": {
  "kernelspec": {
   "display_name": "Python 3 (ipykernel)",
   "language": "python",
   "name": "python3"
  },
  "language_info": {
   "codemirror_mode": {
    "name": "ipython",
    "version": 3
   },
   "file_extension": ".py",
   "mimetype": "text/x-python",
   "name": "python",
   "nbconvert_exporter": "python",
   "pygments_lexer": "ipython3",
   "version": "3.9.7"
  }
 },
 "nbformat": 4,
 "nbformat_minor": 5
}
